{
 "cells": [
  {
   "cell_type": "code",
   "execution_count": 1,
   "id": "e27dc0f5",
   "metadata": {},
   "outputs": [],
   "source": [
    "import pandas as pd\n",
    "import numpy as np\n"
   ]
  },
  {
   "cell_type": "code",
   "execution_count": 4,
   "id": "3905475d",
   "metadata": {},
   "outputs": [
    {
     "name": "stdout",
     "output_type": "stream",
     "text": [
      "README.md  \u001b[0m\u001b[01;34mdata\u001b[0m/  \u001b[01;34mnotebooks\u001b[0m/  requirements.txt\r\n"
     ]
    }
   ],
   "source": [
    "ls"
   ]
  },
  {
   "cell_type": "code",
   "execution_count": 7,
   "id": "788fa9ba",
   "metadata": {},
   "outputs": [],
   "source": [
    "df_inflation = pd.read_csv(\"raw/inflation_rate_2009_2021.csv\")"
   ]
  },
  {
   "cell_type": "code",
   "execution_count": 8,
   "id": "f2a58b3d",
   "metadata": {},
   "outputs": [
    {
     "data": {
      "text/html": [
       "<div>\n",
       "<style scoped>\n",
       "    .dataframe tbody tr th:only-of-type {\n",
       "        vertical-align: middle;\n",
       "    }\n",
       "\n",
       "    .dataframe tbody tr th {\n",
       "        vertical-align: top;\n",
       "    }\n",
       "\n",
       "    .dataframe thead th {\n",
       "        text-align: right;\n",
       "    }\n",
       "</style>\n",
       "<table border=\"1\" class=\"dataframe\">\n",
       "  <thead>\n",
       "    <tr style=\"text-align: right;\">\n",
       "      <th></th>\n",
       "      <th>inflation_date</th>\n",
       "      <th>inflation_rate</th>\n",
       "    </tr>\n",
       "  </thead>\n",
       "  <tbody>\n",
       "    <tr>\n",
       "      <th>0</th>\n",
       "      <td>October 2021</td>\n",
       "      <td>0.80</td>\n",
       "    </tr>\n",
       "    <tr>\n",
       "      <th>1</th>\n",
       "      <td>September 2021</td>\n",
       "      <td>0.60</td>\n",
       "    </tr>\n",
       "    <tr>\n",
       "      <th>2</th>\n",
       "      <td>August 2021</td>\n",
       "      <td>0.30</td>\n",
       "    </tr>\n",
       "    <tr>\n",
       "      <th>3</th>\n",
       "      <td>July 2021</td>\n",
       "      <td>0.40</td>\n",
       "    </tr>\n",
       "    <tr>\n",
       "      <th>4</th>\n",
       "      <td>June 2021</td>\n",
       "      <td>6.20</td>\n",
       "    </tr>\n",
       "    <tr>\n",
       "      <th>...</th>\n",
       "      <td>...</td>\n",
       "      <td>...</td>\n",
       "    </tr>\n",
       "    <tr>\n",
       "      <th>149</th>\n",
       "      <td>May 2009</td>\n",
       "      <td>5.33</td>\n",
       "    </tr>\n",
       "    <tr>\n",
       "      <th>150</th>\n",
       "      <td>April 2009</td>\n",
       "      <td>4.27</td>\n",
       "    </tr>\n",
       "    <tr>\n",
       "      <th>151</th>\n",
       "      <td>March 2009</td>\n",
       "      <td>2.07</td>\n",
       "    </tr>\n",
       "    <tr>\n",
       "      <th>152</th>\n",
       "      <td>February 2009</td>\n",
       "      <td>4.64</td>\n",
       "    </tr>\n",
       "    <tr>\n",
       "      <th>153</th>\n",
       "      <td>January 2009</td>\n",
       "      <td>4.42</td>\n",
       "    </tr>\n",
       "  </tbody>\n",
       "</table>\n",
       "<p>154 rows × 2 columns</p>\n",
       "</div>"
      ],
      "text/plain": [
       "     inflation_date  inflation_rate\n",
       "0      October 2021            0.80\n",
       "1    September 2021            0.60\n",
       "2       August 2021            0.30\n",
       "3         July 2021            0.40\n",
       "4         June 2021            6.20\n",
       "..              ...             ...\n",
       "149        May 2009            5.33\n",
       "150      April 2009            4.27\n",
       "151      March 2009            2.07\n",
       "152   February 2009            4.64\n",
       "153    January 2009            4.42\n",
       "\n",
       "[154 rows x 2 columns]"
      ]
     },
     "execution_count": 8,
     "metadata": {},
     "output_type": "execute_result"
    }
   ],
   "source": [
    "df_inflation"
   ]
  },
  {
   "cell_type": "code",
   "execution_count": 49,
   "id": "acb4667b",
   "metadata": {},
   "outputs": [],
   "source": [
    "df_money_supply = pd.read_csv(\"raw/money_supply.csv\")"
   ]
  },
  {
   "cell_type": "code",
   "execution_count": 51,
   "id": "cbbb8a91",
   "metadata": {},
   "outputs": [
    {
     "data": {
      "text/html": [
       "<div>\n",
       "<style scoped>\n",
       "    .dataframe tbody tr th:only-of-type {\n",
       "        vertical-align: middle;\n",
       "    }\n",
       "\n",
       "    .dataframe tbody tr th {\n",
       "        vertical-align: top;\n",
       "    }\n",
       "\n",
       "    .dataframe thead th {\n",
       "        text-align: right;\n",
       "    }\n",
       "</style>\n",
       "<table border=\"1\" class=\"dataframe\">\n",
       "  <thead>\n",
       "    <tr style=\"text-align: right;\">\n",
       "      <th></th>\n",
       "      <th>money_date</th>\n",
       "      <th>money_rate</th>\n",
       "    </tr>\n",
       "  </thead>\n",
       "  <tbody>\n",
       "    <tr>\n",
       "      <th>0</th>\n",
       "      <td>October 2021</td>\n",
       "      <td>7.9</td>\n",
       "    </tr>\n",
       "    <tr>\n",
       "      <th>1</th>\n",
       "      <td>September 2021</td>\n",
       "      <td>8.4</td>\n",
       "    </tr>\n",
       "    <tr>\n",
       "      <th>2</th>\n",
       "      <td>August 2021</td>\n",
       "      <td>7.9</td>\n",
       "    </tr>\n",
       "    <tr>\n",
       "      <th>3</th>\n",
       "      <td>July 2021</td>\n",
       "      <td>9.8</td>\n",
       "    </tr>\n",
       "    <tr>\n",
       "      <th>4</th>\n",
       "      <td>June 2021</td>\n",
       "      <td>9.1</td>\n",
       "    </tr>\n",
       "    <tr>\n",
       "      <th>...</th>\n",
       "      <td>...</td>\n",
       "      <td>...</td>\n",
       "    </tr>\n",
       "    <tr>\n",
       "      <th>149</th>\n",
       "      <td>May 2009</td>\n",
       "      <td>16.9</td>\n",
       "    </tr>\n",
       "    <tr>\n",
       "      <th>150</th>\n",
       "      <td>April 2009</td>\n",
       "      <td>18.3</td>\n",
       "    </tr>\n",
       "    <tr>\n",
       "      <th>151</th>\n",
       "      <td>March 2009</td>\n",
       "      <td>15.8</td>\n",
       "    </tr>\n",
       "    <tr>\n",
       "      <th>152</th>\n",
       "      <td>February 2009</td>\n",
       "      <td>15.6</td>\n",
       "    </tr>\n",
       "    <tr>\n",
       "      <th>153</th>\n",
       "      <td>January 2009</td>\n",
       "      <td>13.9</td>\n",
       "    </tr>\n",
       "  </tbody>\n",
       "</table>\n",
       "<p>154 rows × 2 columns</p>\n",
       "</div>"
      ],
      "text/plain": [
       "         money_date  money_rate\n",
       "0      October 2021         7.9\n",
       "1    September 2021         8.4\n",
       "2       August 2021         7.9\n",
       "3         July 2021         9.8\n",
       "4         June 2021         9.1\n",
       "..              ...         ...\n",
       "149        May 2009        16.9\n",
       "150      April 2009        18.3\n",
       "151      March 2009        15.8\n",
       "152   February 2009        15.6\n",
       "153    January 2009        13.9\n",
       "\n",
       "[154 rows x 2 columns]"
      ]
     },
     "execution_count": 51,
     "metadata": {},
     "output_type": "execute_result"
    }
   ],
   "source": [
    "df_money_supply"
   ]
  },
  {
   "cell_type": "code",
   "execution_count": 52,
   "id": "2cd3adfb",
   "metadata": {},
   "outputs": [],
   "source": [
    "df_repo = pd.read_csv(\"interim/repo_rate_2009_2021.csv\")"
   ]
  },
  {
   "cell_type": "code",
   "execution_count": 54,
   "id": "3ea4496e",
   "metadata": {},
   "outputs": [
    {
     "name": "stdout",
     "output_type": "stream",
     "text": [
      "<class 'pandas.core.frame.DataFrame'>\n",
      "RangeIndex: 154 entries, 0 to 153\n",
      "Data columns (total 2 columns):\n",
      " #   Column     Non-Null Count  Dtype  \n",
      "---  ------     --------------  -----  \n",
      " 0   repo_date  154 non-null    object \n",
      " 1   repo_rate  154 non-null    float64\n",
      "dtypes: float64(1), object(1)\n",
      "memory usage: 2.5+ KB\n"
     ]
    }
   ],
   "source": [
    "df_repo['repo_date'] = pd.to_datetime()"
   ]
  },
  {
   "cell_type": "code",
   "execution_count": 55,
   "id": "95bd018f",
   "metadata": {},
   "outputs": [],
   "source": [
    "import datetime as dt"
   ]
  },
  {
   "cell_type": "code",
   "execution_count": 59,
   "id": "77dab050",
   "metadata": {},
   "outputs": [
    {
     "data": {
      "text/plain": [
       "0     2021-10-01\n",
       "1     2021-09-01\n",
       "2     2021-08-01\n",
       "3     2021-07-01\n",
       "4     2021-06-01\n",
       "         ...    \n",
       "149   2009-05-01\n",
       "150   2009-04-01\n",
       "151   2009-03-01\n",
       "152   2009-02-01\n",
       "153   2009-01-01\n",
       "Name: money_date, Length: 154, dtype: datetime64[ns]"
      ]
     },
     "execution_count": 59,
     "metadata": {},
     "output_type": "execute_result"
    }
   ],
   "source": [
    "pd.to_datetime(df_money_supply['money_date'])"
   ]
  },
  {
   "cell_type": "code",
   "execution_count": 60,
   "id": "9128aee5",
   "metadata": {},
   "outputs": [],
   "source": [
    "df_bills = pd.read_csv(\"raw/t_bills.csv\")"
   ]
  },
  {
   "cell_type": "code",
   "execution_count": 64,
   "id": "1b60b81d",
   "metadata": {},
   "outputs": [],
   "source": [
    "df_bills['Period'] = pd.to_datetime(df_bills['Period'])"
   ]
  },
  {
   "cell_type": "code",
   "execution_count": 91,
   "id": "13f57e51",
   "metadata": {},
   "outputs": [
    {
     "data": {
      "text/plain": [
       "8"
      ]
     },
     "execution_count": 91,
     "metadata": {},
     "output_type": "execute_result"
    }
   ],
   "source": [
    "len(df_bills.columns)+len(df_money_supply.columns)+len(df_inflation.columns)+len(df_repo.columns)-4"
   ]
  },
  {
   "cell_type": "code",
   "execution_count": 76,
   "id": "21bb4dcf",
   "metadata": {},
   "outputs": [
    {
     "data": {
      "text/html": [
       "<div>\n",
       "<style scoped>\n",
       "    .dataframe tbody tr th:only-of-type {\n",
       "        vertical-align: middle;\n",
       "    }\n",
       "\n",
       "    .dataframe tbody tr th {\n",
       "        vertical-align: top;\n",
       "    }\n",
       "\n",
       "    .dataframe thead th {\n",
       "        text-align: right;\n",
       "    }\n",
       "</style>\n",
       "<table border=\"1\" class=\"dataframe\">\n",
       "  <thead>\n",
       "    <tr style=\"text-align: right;\">\n",
       "      <th></th>\n",
       "      <th>Period</th>\n",
       "      <th>1st Week(%)</th>\n",
       "      <th>4th Week(%)</th>\n",
       "      <th>13th Week(%)</th>\n",
       "      <th>26th Week(%)</th>\n",
       "      <th>52nd Week(%)</th>\n",
       "    </tr>\n",
       "  </thead>\n",
       "  <tbody>\n",
       "  </tbody>\n",
       "</table>\n",
       "</div>"
      ],
      "text/plain": [
       "Empty DataFrame\n",
       "Columns: [Period, 1st Week(%), 4th Week(%), 13th Week(%), 26th Week(%), 52nd Week(%)]\n",
       "Index: []"
      ]
     },
     "execution_count": 76,
     "metadata": {},
     "output_type": "execute_result"
    }
   ],
   "source": [
    "df_bills.query(\"'2020-9-01'<=Period<='2001-01-01'\")"
   ]
  },
  {
   "cell_type": "code",
   "execution_count": 80,
   "id": "b563b350",
   "metadata": {},
   "outputs": [
    {
     "data": {
      "text/html": [
       "<div>\n",
       "<style scoped>\n",
       "    .dataframe tbody tr th:only-of-type {\n",
       "        vertical-align: middle;\n",
       "    }\n",
       "\n",
       "    .dataframe tbody tr th {\n",
       "        vertical-align: top;\n",
       "    }\n",
       "\n",
       "    .dataframe thead th {\n",
       "        text-align: right;\n",
       "    }\n",
       "</style>\n",
       "<table border=\"1\" class=\"dataframe\">\n",
       "  <thead>\n",
       "    <tr style=\"text-align: right;\">\n",
       "      <th></th>\n",
       "      <th>Period</th>\n",
       "      <th>1st Week(%)</th>\n",
       "      <th>4th Week(%)</th>\n",
       "      <th>13th Week(%)</th>\n",
       "      <th>26th Week(%)</th>\n",
       "      <th>52nd Week(%)</th>\n",
       "    </tr>\n",
       "  </thead>\n",
       "  <tbody>\n",
       "    <tr>\n",
       "      <th>0</th>\n",
       "      <td>2021-12-01</td>\n",
       "      <td>0.51022</td>\n",
       "      <td>0.54010</td>\n",
       "      <td>0.57002</td>\n",
       "      <td>0.60001</td>\n",
       "      <td>0.62000</td>\n",
       "    </tr>\n",
       "    <tr>\n",
       "      <th>1</th>\n",
       "      <td>2021-11-01</td>\n",
       "      <td>0.51267</td>\n",
       "      <td>0.54258</td>\n",
       "      <td>0.57252</td>\n",
       "      <td>0.60251</td>\n",
       "      <td>0.62250</td>\n",
       "    </tr>\n",
       "    <tr>\n",
       "      <th>2</th>\n",
       "      <td>2021-10-01</td>\n",
       "      <td>0.51218</td>\n",
       "      <td>0.54208</td>\n",
       "      <td>0.57601</td>\n",
       "      <td>0.60201</td>\n",
       "      <td>0.61800</td>\n",
       "    </tr>\n",
       "    <tr>\n",
       "      <th>3</th>\n",
       "      <td>2021-09-01</td>\n",
       "      <td>0.51022</td>\n",
       "      <td>0.54203</td>\n",
       "      <td>0.57701</td>\n",
       "      <td>0.60200</td>\n",
       "      <td>0.61700</td>\n",
       "    </tr>\n",
       "    <tr>\n",
       "      <th>4</th>\n",
       "      <td>2021-08-01</td>\n",
       "      <td>0.51022</td>\n",
       "      <td>0.55001</td>\n",
       "      <td>0.58501</td>\n",
       "      <td>0.61000</td>\n",
       "      <td>0.62500</td>\n",
       "    </tr>\n",
       "    <tr>\n",
       "      <th>...</th>\n",
       "      <td>...</td>\n",
       "      <td>...</td>\n",
       "      <td>...</td>\n",
       "      <td>...</td>\n",
       "      <td>...</td>\n",
       "      <td>...</td>\n",
       "    </tr>\n",
       "    <tr>\n",
       "      <th>141</th>\n",
       "      <td>2010-03-01</td>\n",
       "      <td>0.13700</td>\n",
       "      <td>0.18420</td>\n",
       "      <td>0.36640</td>\n",
       "      <td>0.46980</td>\n",
       "      <td>0.60900</td>\n",
       "    </tr>\n",
       "    <tr>\n",
       "      <th>142</th>\n",
       "      <td>2010-02-01</td>\n",
       "      <td>0.13400</td>\n",
       "      <td>0.18080</td>\n",
       "      <td>0.41260</td>\n",
       "      <td>0.53580</td>\n",
       "      <td>0.76740</td>\n",
       "    </tr>\n",
       "    <tr>\n",
       "      <th>143</th>\n",
       "      <td>2010-01-01</td>\n",
       "      <td>0.13750</td>\n",
       "      <td>0.19050</td>\n",
       "      <td>0.43250</td>\n",
       "      <td>0.55275</td>\n",
       "      <td>0.73950</td>\n",
       "    </tr>\n",
       "    <tr>\n",
       "      <th>144</th>\n",
       "      <td>2009-10-01</td>\n",
       "      <td>0.12300</td>\n",
       "      <td>0.45600</td>\n",
       "      <td>0.78900</td>\n",
       "      <td>0.32100</td>\n",
       "      <td>0.65400</td>\n",
       "    </tr>\n",
       "    <tr>\n",
       "      <th>145</th>\n",
       "      <td>2009-08-01</td>\n",
       "      <td>4.82722</td>\n",
       "      <td>4.85531</td>\n",
       "      <td>4.90719</td>\n",
       "      <td>4.93875</td>\n",
       "      <td>4.99313</td>\n",
       "    </tr>\n",
       "  </tbody>\n",
       "</table>\n",
       "<p>146 rows × 6 columns</p>\n",
       "</div>"
      ],
      "text/plain": [
       "        Period  1st Week(%)  4th Week(%)  13th Week(%)  26th Week(%)  \\\n",
       "0   2021-12-01      0.51022      0.54010       0.57002       0.60001   \n",
       "1   2021-11-01      0.51267      0.54258       0.57252       0.60251   \n",
       "2   2021-10-01      0.51218      0.54208       0.57601       0.60201   \n",
       "3   2021-09-01      0.51022      0.54203       0.57701       0.60200   \n",
       "4   2021-08-01      0.51022      0.55001       0.58501       0.61000   \n",
       "..         ...          ...          ...           ...           ...   \n",
       "141 2010-03-01      0.13700      0.18420       0.36640       0.46980   \n",
       "142 2010-02-01      0.13400      0.18080       0.41260       0.53580   \n",
       "143 2010-01-01      0.13750      0.19050       0.43250       0.55275   \n",
       "144 2009-10-01      0.12300      0.45600       0.78900       0.32100   \n",
       "145 2009-08-01      4.82722      4.85531       4.90719       4.93875   \n",
       "\n",
       "     52nd Week(%)  \n",
       "0         0.62000  \n",
       "1         0.62250  \n",
       "2         0.61800  \n",
       "3         0.61700  \n",
       "4         0.62500  \n",
       "..            ...  \n",
       "141       0.60900  \n",
       "142       0.76740  \n",
       "143       0.73950  \n",
       "144       0.65400  \n",
       "145       4.99313  \n",
       "\n",
       "[146 rows x 6 columns]"
      ]
     },
     "execution_count": 80,
     "metadata": {},
     "output_type": "execute_result"
    }
   ],
   "source": [
    "df_bills[df_bills['Period'].isin(pd.date_range('2009-01-01', '2021-12-01'))]"
   ]
  },
  {
   "cell_type": "code",
   "execution_count": null,
   "id": "94c1d79c",
   "metadata": {},
   "outputs": [],
   "source": []
  }
 ],
 "metadata": {
  "kernelspec": {
   "display_name": "t5",
   "language": "python",
   "name": "t5"
  },
  "language_info": {
   "codemirror_mode": {
    "name": "ipython",
    "version": 3
   },
   "file_extension": ".py",
   "mimetype": "text/x-python",
   "name": "python",
   "nbconvert_exporter": "python",
   "pygments_lexer": "ipython3",
   "version": "3.7.11"
  }
 },
 "nbformat": 4,
 "nbformat_minor": 5
}
